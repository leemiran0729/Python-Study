{
 "cells": [
  {
   "cell_type": "code",
   "execution_count": null,
   "metadata": {},
   "outputs": [],
   "source": [
    "'''\n",
    "101. bool\n",
    "파이썬에서는 True / False를 갖는 데이터 타입을 bool타입이라고 함\n",
    "'''"
   ]
  },
  {
   "cell_type": "code",
   "execution_count": 1,
   "metadata": {},
   "outputs": [
    {
     "name": "stdout",
     "output_type": "stream",
     "text": [
      "False\n"
     ]
    }
   ],
   "source": [
    "'''\n",
    "102. 아래의 코드 출력 결과를 예상하라\n",
    "'''\n",
    "\n",
    "print(3 == 5)"
   ]
  },
  {
   "cell_type": "code",
   "execution_count": 2,
   "metadata": {},
   "outputs": [
    {
     "name": "stdout",
     "output_type": "stream",
     "text": [
      "True\n"
     ]
    }
   ],
   "source": [
    "'''\n",
    "103. 아래의 코드 출력 결과를 예상하라\n",
    "'''\n",
    "\n",
    "print(3 < 5)"
   ]
  },
  {
   "cell_type": "code",
   "execution_count": 3,
   "metadata": {},
   "outputs": [
    {
     "name": "stdout",
     "output_type": "stream",
     "text": [
      "True\n"
     ]
    }
   ],
   "source": [
    "'''\n",
    "104. 아래의 코드 출력 결과를 예상하라\n",
    "'''\n",
    "x = 4\n",
    "print(1< x <5)"
   ]
  },
  {
   "cell_type": "code",
   "execution_count": 4,
   "metadata": {},
   "outputs": [
    {
     "name": "stdout",
     "output_type": "stream",
     "text": [
      "True\n"
     ]
    }
   ],
   "source": [
    "'''\n",
    "105. 아래의 코드 출력 결과를 예상하라\n",
    "'''\n",
    "print((3==3) and (4!=3))"
   ]
  },
  {
   "cell_type": "code",
   "execution_count": 5,
   "metadata": {},
   "outputs": [
    {
     "ename": "SyntaxError",
     "evalue": "expression cannot contain assignment, perhaps you meant \"==\"? (1355158335.py, line 4)",
     "output_type": "error",
     "traceback": [
      "\u001b[1;36m  Cell \u001b[1;32mIn[5], line 4\u001b[1;36m\u001b[0m\n\u001b[1;33m    print(3=>4)\u001b[0m\n\u001b[1;37m          ^\u001b[0m\n\u001b[1;31mSyntaxError\u001b[0m\u001b[1;31m:\u001b[0m expression cannot contain assignment, perhaps you meant \"==\"?\n"
     ]
    }
   ],
   "source": [
    "'''\n",
    "106. 아래의 코드 출력 결과가 에러인 이유는?\n",
    "'''\n",
    "print(3=>4) # 지원하지않은 연산자!"
   ]
  },
  {
   "cell_type": "code",
   "execution_count": 6,
   "metadata": {},
   "outputs": [],
   "source": [
    "'''\n",
    "107. 아래의 코드 출력 결과를 예상하라\n",
    "'''\n",
    "\n",
    "if 4<3:\n",
    "    print(\"Hello!\")\n",
    "\n",
    "# 아무것도 출력 안됨"
   ]
  },
  {
   "cell_type": "code",
   "execution_count": 7,
   "metadata": {},
   "outputs": [
    {
     "name": "stdout",
     "output_type": "stream",
     "text": [
      "Hi\n"
     ]
    }
   ],
   "source": [
    "'''\n",
    "108. 아래의 코드 출력 결과를 예상하라\n",
    "'''\n",
    "\n",
    "if 4 < 3:\n",
    "    print(\"Hello\")\n",
    "else: \n",
    "    print(\"Hi\")"
   ]
  },
  {
   "cell_type": "code",
   "execution_count": 8,
   "metadata": {},
   "outputs": [
    {
     "name": "stdout",
     "output_type": "stream",
     "text": [
      "1\n",
      "2\n",
      "4\n"
     ]
    }
   ],
   "source": [
    "'''\n",
    "109. 아래의 코드 출력 결과를 예상하라\n",
    "'''\n",
    "\n",
    "if True :\n",
    "    print (\"1\")\n",
    "    print (\"2\")\n",
    "else :\n",
    "    print(\"3\")\n",
    "print(\"4\")\n"
   ]
  },
  {
   "cell_type": "code",
   "execution_count": 9,
   "metadata": {},
   "outputs": [
    {
     "name": "stdout",
     "output_type": "stream",
     "text": [
      "3\n",
      "5\n"
     ]
    }
   ],
   "source": [
    "'''\n",
    "110. 아래의 코드 출력 결과를 예상하라\n",
    "'''\n",
    "\n",
    "if True :\n",
    "    if False:\n",
    "        print(\"1\")\n",
    "        print(\"2\")\n",
    "    else:\n",
    "        print(\"3\")\n",
    "else :\n",
    "    print(\"4\")\n",
    "print(\"5\")\n",
    "\n"
   ]
  },
  {
   "cell_type": "code",
   "execution_count": 10,
   "metadata": {},
   "outputs": [
    {
     "name": "stdout",
     "output_type": "stream",
     "text": [
      "안녕하세요안녕하세요\n"
     ]
    }
   ],
   "source": [
    "'''\n",
    "111. 사용자로부터 받은 문자열을 두 번 출력하라\n",
    "'''\n",
    "\n",
    "string = input()\n",
    "print(string*2)"
   ]
  },
  {
   "cell_type": "code",
   "execution_count": 11,
   "metadata": {},
   "outputs": [
    {
     "name": "stdout",
     "output_type": "stream",
     "text": [
      "40\n"
     ]
    }
   ],
   "source": [
    "'''\n",
    "112. 사용자로부터 하나의 숫자를 입력받고, 입력 받은 숫자에 10을 더해 출력하라\n",
    "'''\n",
    "\n",
    "num = int(input())\n",
    "print(num+10)"
   ]
  },
  {
   "cell_type": "code",
   "execution_count": 13,
   "metadata": {},
   "outputs": [
    {
     "name": "stdout",
     "output_type": "stream",
     "text": [
      "짝수\n"
     ]
    }
   ],
   "source": [
    "'''\n",
    "113. 사용자로부터 하나의 숫자를 입력 받고 짝수/홀수를 판별하라\n",
    "'''\n",
    "\n",
    "num = int(input())\n",
    "\n",
    "if num%2 : \n",
    "    print(\"홀수\")\n",
    "else:\n",
    "    print(\"짝수\")\n"
   ]
  },
  {
   "cell_type": "code",
   "execution_count": 16,
   "metadata": {},
   "outputs": [
    {
     "name": "stdout",
     "output_type": "stream",
     "text": [
      "255\n"
     ]
    }
   ],
   "source": [
    "'''\n",
    "114. 사용자로부터 값을 입력받은 후 해당 값에 20을 더한 값을 출력하라 단, 255를 초과하면 255를 출력하라\n",
    "'''\n",
    "\n",
    "num = int(input(\"입력값: \"))\n",
    "result = num + 20\n",
    "\n",
    "if result > 255:\n",
    "    print(255)\n",
    "else: \n",
    "    print(result)"
   ]
  },
  {
   "cell_type": "code",
   "execution_count": 18,
   "metadata": {},
   "outputs": [
    {
     "name": "stdout",
     "output_type": "stream",
     "text": [
      "0\n"
     ]
    }
   ],
   "source": [
    "'''\n",
    "115. 사용자로부터 값을 입력받은 후 해당 값에 20을 뺀 값을 출력하라 단, 0~255가 출력 값의 범위이며 0보다 작으면 0, 255보다 크면 255를 출력\n",
    "'''\n",
    "\n",
    "num = int(input(\"입력값: \"))\n",
    "result = num - 20\n",
    "\n",
    "if result > 255:\n",
    "    print(255)\n",
    "elif result < 0:\n",
    "    print(0)\n",
    "else :\n",
    "    print(result)"
   ]
  },
  {
   "cell_type": "code",
   "execution_count": 20,
   "metadata": {},
   "outputs": [
    {
     "name": "stdout",
     "output_type": "stream",
     "text": [
      "정각이 아닙니다\n"
     ]
    }
   ],
   "source": [
    "'''\n",
    "116. 사용자로부터 입력 받은 시간이 정각인지 판별하라\n",
    "'''\n",
    "\n",
    "t = input(\"현재시간: \")\n",
    "back = t.split(':')[1]\n",
    "\n",
    "if back == '00':\n",
    "    print(\"정각 입니다\")\n",
    "else:\n",
    "    print('정각이 아닙니다')"
   ]
  },
  {
   "cell_type": "code",
   "execution_count": 22,
   "metadata": {},
   "outputs": [
    {
     "name": "stdout",
     "output_type": "stream",
     "text": [
      "오답입니다\n"
     ]
    }
   ],
   "source": [
    "'''\n",
    "117. 입력받은 단어가 fruit 리스트에 포함되었는지에 따라 정답유무를 출력하라\n",
    "'''\n",
    "\n",
    "fruit = [\"사과\", \"포도\", \"홍시\"]\n",
    "\n",
    "f = input(\"좋아하는 과일은? \")\n",
    "\n",
    "if f in fruit:\n",
    "    print(\"정답입니다\")\n",
    "else:\n",
    "    print(\"오답입니다\")"
   ]
  },
  {
   "cell_type": "code",
   "execution_count": 24,
   "metadata": {},
   "outputs": [
    {
     "name": "stdout",
     "output_type": "stream",
     "text": [
      "투자 경고 종목이 아닙니다.\n"
     ]
    }
   ],
   "source": [
    "'''\n",
    "118. 투자 경고 종목 리스트에서 종목명 입력 후 해당 종목이 경고 종목인지 유무에 따라 출력하라\n",
    "'''\n",
    "\n",
    "warn_investment_list = [\"Microsoft\", \"Google\", \"Naver\", \"Kakao\", \"SAMSUNG\", \"LG\"]\n",
    "\n",
    "investment = input()\n",
    "\n",
    "if investment in warn_investment_list:\n",
    "    print(\"투자 경고 종목입니다.\")\n",
    "else:\n",
    "    print(\"투자 경고 종목이 아닙니다.\")\n",
    "\n"
   ]
  },
  {
   "cell_type": "code",
   "execution_count": 26,
   "metadata": {},
   "outputs": [
    {
     "name": "stdout",
     "output_type": "stream",
     "text": [
      "오답입니다.\n"
     ]
    }
   ],
   "source": [
    "'''\n",
    "119. fruit 딕셔너리가 정의되어있을 때, 입력 값이 딕셔너리 key에 포함되어있는 지 유무에 따라 정답을 출력하라\n",
    "'''\n",
    "\n",
    "fruit = {\"봄\" : \"딸기\", \"여름\" : \"토마토\", \"가을\" : \"사과\"}\n",
    "\n",
    "season = input(\"제가좋아하는계절은: \")\n",
    "\n",
    "if season in fruit.keys():\n",
    "    print(\"정답입니다.\")\n",
    "else:\n",
    "    print(\"오답입니다.\")"
   ]
  },
  {
   "cell_type": "code",
   "execution_count": 28,
   "metadata": {},
   "outputs": [
    {
     "name": "stdout",
     "output_type": "stream",
     "text": [
      "정답입니다.\n"
     ]
    }
   ],
   "source": [
    "'''\n",
    "120. fruit 딕셔너리가 정의되어있을 때, 입력 값이 딕셔너리 value에 포함되어있는 지 유무에 따라 정답을 출력하라\n",
    "'''\n",
    "\n",
    "\n",
    "fruit = {\"봄\" : \"딸기\", \"여름\" : \"토마토\", \"가을\" : \"사과\"}\n",
    "\n",
    "f = input(\"좋아하는 과일은: \")\n",
    "\n",
    "if f in fruit.values():\n",
    "    print(\"정답입니다.\")\n",
    "else:\n",
    "    print(\"오답입니다.\")"
   ]
  },
  {
   "cell_type": "code",
   "execution_count": 31,
   "metadata": {},
   "outputs": [
    {
     "name": "stdout",
     "output_type": "stream",
     "text": [
      "c\n"
     ]
    }
   ],
   "source": [
    "'''\n",
    "121. 사용자로부터 문자 한 개를 받아 소문자->대문자, 대문자->소문자로 변경\n",
    "'''\n",
    "\n",
    "c = input()\n",
    "\n",
    "if c.islower() :\n",
    "    print(c.upper())\n",
    "else:\n",
    "    print(c.lower())\n"
   ]
  },
  {
   "cell_type": "code",
   "execution_count": 32,
   "metadata": {},
   "outputs": [
    {
     "name": "stdout",
     "output_type": "stream",
     "text": [
      "grade is A\n"
     ]
    }
   ],
   "source": [
    "'''\n",
    "122. 사용자로부터 score를 입력받아 학점을 출력하라\n",
    "'''\n",
    "\n",
    "score = int(input(\"score: \"))\n",
    "\n",
    "if 81<=score<=100 :\n",
    "    print(\"grade is A\")\n",
    "\n",
    "elif 61<=score<=80:\n",
    "    print(\"grade is B\")\n",
    "\n",
    "elif 41<=score<=60:\n",
    "    print(\"grade is C\")\n",
    "\n",
    "elif 21<=score<=40:\n",
    "    print(\"grade is D\")\n",
    "\n",
    "elif 0<=score<=20:\n",
    "    print(\"grade is E\")"
   ]
  },
  {
   "cell_type": "code",
   "execution_count": 36,
   "metadata": {},
   "outputs": [
    {
     "name": "stdout",
     "output_type": "stream",
     "text": [
      "116700.0 원\n"
     ]
    }
   ],
   "source": [
    "'''\n",
    "123. 사용자로부터 금액과 통화명을 입력 받아 원화로 계산하라\n",
    "'''\n",
    "\n",
    "dic = {\n",
    "    \"달러\": 1167,\n",
    "    \"엔\": 1.096,\n",
    "    \"유로\": 1268,\n",
    "    \"위안\": 171\n",
    "}\n",
    "\n",
    "a, b = input(\"입력: \").split()\n",
    "print(float(a)*dic[b],\"원\")"
   ]
  },
  {
   "cell_type": "code",
   "execution_count": 38,
   "metadata": {},
   "outputs": [
    {
     "data": {
      "text/plain": [
       "20"
      ]
     },
     "execution_count": 38,
     "metadata": {},
     "output_type": "execute_result"
    }
   ],
   "source": [
    "'''\n",
    "124. 사용자로부터 세 개의 숫자를 입력 받은 후 가장 큰 숫자를 출력하라.\n",
    "'''\n",
    "\n",
    "li = []\n",
    "\n",
    "li.append(int(input('input number1: ')))\n",
    "li.append(int(input('input number2: ')))\n",
    "li.append(int(input('input number3: ')))\n",
    "\n",
    "max(li)\n",
    "\n",
    "\n",
    "'''\n",
    "num1 = input(\"input number1: \")\n",
    "num2 = input(\"input number2: \")\n",
    "num3 = input(\"input number3: \")\n",
    "num1 = int(num1)\n",
    "num2 = int(num2)\n",
    "num3 = int(num3)\n",
    "\n",
    "if num1 >= num2 and num1 >= num3:\n",
    "    print(num1)\n",
    "elif num2 >= num1 and num2 >= num3:\n",
    "    print(num2)\n",
    "else:\n",
    "    print(num3)\n",
    "'''"
   ]
  },
  {
   "cell_type": "code",
   "execution_count": 39,
   "metadata": {},
   "outputs": [
    {
     "name": "stdout",
     "output_type": "stream",
     "text": [
      "당신은 SKT 사용자입니다.\n"
     ]
    }
   ],
   "source": [
    "'''\n",
    "125. 휴대전화번호를 입력 받고 통신사를 출력하는 프로그램을 작성하라\n",
    "'''\n",
    "dic = {\n",
    "\"011\": \"SKT\",\n",
    "\"016\": \"KT\",\n",
    "\"019\":\"LGU\",\n",
    "\"010\": \"알수없음\"\n",
    "}\n",
    "\n",
    "num = input(\"휴대전화 번호 입력\").split(\"-\")[0]\n",
    "\n",
    "print(\"당신은\", dic[num], \"사용자입니다.\")\n",
    "\n",
    "\n",
    "'''\n",
    "number = input(\"휴대전화 번호 입력: \")\n",
    "num = number.split(\"-\")[0]\n",
    "if num == \"011\":\n",
    "    com = \"SKT\"\n",
    "elif num == \"016\":\n",
    "    com = \"KT\"\n",
    "elif num == \"019\":\n",
    "    com = \"LGU\"\n",
    "else:\n",
    "    com = \"알수없음\"\n",
    "print(f\"당신은 {com} 사용자입니다.\")\n",
    "'''"
   ]
  },
  {
   "cell_type": "code",
   "execution_count": 40,
   "metadata": {},
   "outputs": [
    {
     "data": {
      "text/plain": [
       "'도봉구'"
      ]
     },
     "execution_count": 40,
     "metadata": {},
     "output_type": "execute_result"
    }
   ],
   "source": [
    "'''\n",
    "126: 우편번호를 입력받고 지역구를 판별하라\n",
    "'''\n",
    "\n",
    "dic = {\n",
    "    \"010\": '강북구',\n",
    "    \"011\": \"강북구\",\n",
    "    \"012\": \"강북구\",\n",
    "    \"013\": '도봉구',\n",
    "    \"014\": \"도봉구\",\n",
    "    \"015\": \"도봉구\",\n",
    "    \"016\": '노원구',\n",
    "    \"017\": \"노원구\",\n",
    "    \"018\": \"노원구\",\n",
    "    \"019\": \"노원구\"\n",
    "}\n",
    "\n",
    "post = input(\"우편번호: \")[:3]\n",
    "dic[post]\n",
    "\n",
    "'''\n",
    "우편번호 = input(\"우편번호: \")\n",
    "우편번호 = 우편번호[:3]\n",
    "if 우편번호 in [\"010\", \"011\", \"012\"]:\n",
    "    print(\"강북구\")\n",
    "elif 우편번호 in [\"014\", \"015\", \"016\"]:\n",
    "    print(\"도봉구\")\n",
    "else:\n",
    "    print(\"노원구\")\n",
    "'''"
   ]
  },
  {
   "cell_type": "code",
   "execution_count": 42,
   "metadata": {},
   "outputs": [
    {
     "name": "stdout",
     "output_type": "stream",
     "text": [
      "남자\n"
     ]
    }
   ],
   "source": [
    "'''\n",
    "127. 주민등록번호를 입력받아 성별을 출력하라\n",
    "'''\n",
    "\n",
    "gn = input(\"주민등록번호: \").split(\"-\")[1][0]\n",
    "\n",
    "if gn=='1' or gn=='3':\n",
    "    print(\"남자\")\n",
    "else :\n",
    "    print(\"여자\")\n"
   ]
  },
  {
   "cell_type": "code",
   "execution_count": 45,
   "metadata": {},
   "outputs": [
    {
     "name": "stdout",
     "output_type": "stream",
     "text": [
      "서울입니다.\n"
     ]
    }
   ],
   "source": [
    "'''\n",
    "128. 주민등록번호를 입력받고 출생지가 서울인지 아닌지 판단하세요.\n",
    "'''\n",
    "\n",
    "dn = input(\"주민등록번호: \").split(\"-\")[1][1:3]\n",
    "\n",
    "if '00'<=dn<='08':\n",
    "    print(\"서울입니다.\")\n",
    "else: \n",
    "    print(\"서울이 아닙니다.\")"
   ]
  },
  {
   "cell_type": "code",
   "execution_count": 49,
   "metadata": {},
   "outputs": [
    {
     "name": "stdout",
     "output_type": "stream",
     "text": [
      "유효하지 않은 주민등록번호입니다.\n"
     ]
    }
   ],
   "source": [
    "'''\n",
    "129. 주민등록번호를 입력받아 유효한 지 출력하라.\n",
    "'''\n",
    "\n",
    "num = input(\"주민등록번호: \").split('-')\n",
    "\n",
    "total = int(num[0][0])*2 + int(num[0][1])*3 + int(num[0][2])*4+int(num[0][3])*5+int(num[0][4])*6+int(num[0][5])*7+int(num[1][0])*8+int(num[1][1])*9 + int(num[1][2])*2 + int(num[1][3])*3+int(num[1][4])*4+int(num[1][5])*5\n",
    "total = total%11\n",
    "result = 11-total\n",
    "\n",
    "if result == int(num[1][6]):\n",
    "    print(\"유효한 주민등록번호입니다.\")\n",
    "else :\n",
    "    print(\"유효하지 않은 주민등록번호입니다.\")"
   ]
  },
  {
   "cell_type": "code",
   "execution_count": 51,
   "metadata": {},
   "outputs": [
    {
     "ename": "ModuleNotFoundError",
     "evalue": "No module named 'request'",
     "output_type": "error",
     "traceback": [
      "\u001b[1;31m---------------------------------------------------------------------------\u001b[0m",
      "\u001b[1;31mModuleNotFoundError\u001b[0m                       Traceback (most recent call last)",
      "Cell \u001b[1;32mIn[51], line 1\u001b[0m\n\u001b[1;32m----> 1\u001b[0m \u001b[38;5;28;01mimport\u001b[39;00m \u001b[38;5;21;01mrequest\u001b[39;00m\n\u001b[0;32m      2\u001b[0m btc \u001b[38;5;241m=\u001b[39m request\u001b[38;5;241m.\u001b[39mget(\u001b[38;5;124m\"\u001b[39m\u001b[38;5;124mhttps://api.bithumb.com/public/ticker/\u001b[39m\u001b[38;5;124m\"\u001b[39m)\u001b[38;5;241m.\u001b[39mjson()[\u001b[38;5;124m'\u001b[39m\u001b[38;5;124mdata\u001b[39m\u001b[38;5;124m'\u001b[39m]\n\u001b[0;32m      4\u001b[0m btc\n",
      "\u001b[1;31mModuleNotFoundError\u001b[0m: No module named 'request'"
     ]
    }
   ],
   "source": [
    "import requests\n",
    "btc = requests.get(\"https://api.bithumb.com/public/ticker/\").json()['data']\n",
    "\n",
    "btc"
   ]
  }
 ],
 "metadata": {
  "kernelspec": {
   "display_name": "Python 3",
   "language": "python",
   "name": "python3"
  },
  "language_info": {
   "codemirror_mode": {
    "name": "ipython",
    "version": 3
   },
   "file_extension": ".py",
   "mimetype": "text/x-python",
   "name": "python",
   "nbconvert_exporter": "python",
   "pygments_lexer": "ipython3",
   "version": "3.11.9"
  }
 },
 "nbformat": 4,
 "nbformat_minor": 2
}
