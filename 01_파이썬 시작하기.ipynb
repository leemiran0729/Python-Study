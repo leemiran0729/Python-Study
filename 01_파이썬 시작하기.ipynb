{
 "cells": [
  {
   "cell_type": "code",
   "execution_count": 2,
   "id": "64445390-edc9-4ae0-afc3-82dcdde01881",
   "metadata": {},
   "outputs": [
    {
     "name": "stdout",
     "output_type": "stream",
     "text": [
      "Hello World\n"
     ]
    }
   ],
   "source": [
    "'''\n",
    "001. print 기초\n",
    "화면에 Hello World 문자열을 출력하세요.\n",
    "'''\n",
    "\n",
    "print(\"Hello World\") \n",
    "# 문자열은 큰따옴표 또는 작은또옴표로 표현 가능"
   ]
  },
  {
   "cell_type": "code",
   "execution_count": 3,
   "id": "35c490f3-ba04-4191-8efd-66b071dda60d",
   "metadata": {},
   "outputs": [
    {
     "name": "stdout",
     "output_type": "stream",
     "text": [
      "Mary's cosmetics\n"
     ]
    }
   ],
   "source": [
    "'''\n",
    "002. print 기초\n",
    "화면에 Mary's cosmethics을 출력하세요. (중간에 '가 있음을 주의)\n",
    "'''\n",
    "\n",
    "print(\"Mary's cosmetics\")"
   ]
  },
  {
   "cell_type": "code",
   "execution_count": 4,
   "id": "f0815423-aa35-4238-832e-74d213664de9",
   "metadata": {},
   "outputs": [
    {
     "name": "stdout",
     "output_type": "stream",
     "text": [
      "신씨가 소리질렀다. \"도둑이야\".\n"
     ]
    }
   ],
   "source": [
    "'''\n",
    "003. print 기초\n",
    "신씨가 소리질렀다. \"도둑이야\".\n",
    "'''\n",
    "\n",
    "print('신씨가 소리질렀다. \"도둑이야\".')"
   ]
  },
  {
   "cell_type": "code",
   "execution_count": 7,
   "id": "8286698b-cb2b-4002-96a2-adf8c4faeb58",
   "metadata": {},
   "outputs": [
    {
     "name": "stdout",
     "output_type": "stream",
     "text": [
      "C:\\Windows\n"
     ]
    },
    {
     "name": "stderr",
     "output_type": "stream",
     "text": [
      "<>:1: SyntaxWarning: invalid escape sequence '\\W'\n",
      "<>:6: SyntaxWarning: invalid escape sequence '\\W'\n",
      "<>:1: SyntaxWarning: invalid escape sequence '\\W'\n",
      "<>:6: SyntaxWarning: invalid escape sequence '\\W'\n",
      "C:\\Users\\smulm\\AppData\\Local\\Temp\\ipykernel_3280\\1943765134.py:1: SyntaxWarning: invalid escape sequence '\\W'\n",
      "  '''\n",
      "C:\\Users\\smulm\\AppData\\Local\\Temp\\ipykernel_3280\\1943765134.py:6: SyntaxWarning: invalid escape sequence '\\W'\n",
      "  print(\"C:\\Windows\")\n"
     ]
    }
   ],
   "source": [
    "'''\n",
    "004. print 기초\n",
    "화면에 C:\\Windows를 출력하세요.\n",
    "'''\n",
    "\n",
    "print(\"C:\\Windows\")"
   ]
  },
  {
   "cell_type": "code",
   "execution_count": 8,
   "id": "73847e5e-3f2f-4f8c-8906-2494c3957f46",
   "metadata": {},
   "outputs": [
    {
     "name": "stdout",
     "output_type": "stream",
     "text": [
      "안녕하세요.\n",
      "만나서\t\t반갑습니다.\n"
     ]
    }
   ],
   "source": [
    "'''\n",
    "005. print 탭과 줄바꿈\n",
    "'''\n",
    "\n",
    "print(\"안녕하세요.\\n만나서\\t\\t반갑습니다.\")"
   ]
  },
  {
   "cell_type": "code",
   "execution_count": 9,
   "id": "43113775-429e-4a7a-9512-a61ba1e4ed93",
   "metadata": {},
   "outputs": [
    {
     "name": "stdout",
     "output_type": "stream",
     "text": [
      "오늘은 목요일\n"
     ]
    }
   ],
   "source": [
    "'''\n",
    "006. print 여러 데이터 출력\n",
    "'''\n",
    "\n",
    "print(\"오늘은\", \"목요일\")\n",
    "# ,로 구분하면 여러 데이터가공백 하나로 구분되어 출력됨"
   ]
  },
  {
   "cell_type": "code",
   "execution_count": 14,
   "id": "cc846f43-1676-405c-a3e7-2e97542142bc",
   "metadata": {},
   "outputs": [
    {
     "name": "stdout",
     "output_type": "stream",
     "text": [
      "naver;kakao;sk;samsung\n",
      "naver;kakao;sk;samsung\n"
     ]
    }
   ],
   "source": [
    "'''\n",
    "007. print 기초\n",
    "naver;kakao;sk;samsung\n",
    "'''\n",
    "\n",
    "print(\"naver;kakao;sk;samsung\")\n",
    "\n",
    "# sep인자: 출력 값 사이에 한 칸 공백 대신 다른 기호로 출력 가능\n",
    "print(\"naver\", \"kakao\", \"sk\", \"samsung\", sep=\";\")"
   ]
  },
  {
   "cell_type": "code",
   "execution_count": 15,
   "id": "486652ae-2477-4e96-bda0-2db97fe1cdff",
   "metadata": {},
   "outputs": [
    {
     "name": "stdout",
     "output_type": "stream",
     "text": [
      "naver/kakao/sk/samsung\n"
     ]
    }
   ],
   "source": [
    "'''\n",
    "008. print 기초\n",
    "naver/kakao/sk/samsung\n",
    "'''\n",
    "\n",
    "print(\"naver\", \"kakao\", \"sk\", \"samsung\", sep=\"/\")"
   ]
  },
  {
   "cell_type": "code",
   "execution_count": 18,
   "id": "2c75c836-fb41-47e5-8801-7ec78004ef6f",
   "metadata": {},
   "outputs": [
    {
     "name": "stdout",
     "output_type": "stream",
     "text": [
      "first\n",
      "second\n",
      "first second\n"
     ]
    }
   ],
   "source": [
    "'''\n",
    "009. print 줄바꿈\n",
    "줄바꿈없이 출력할 것 \n",
    "print함수는 두번 사용할 것\n",
    "'''\n",
    "print(\"first\"); print(\"second\");\n",
    "\n",
    "print(\"first\", end=\" \"); print(\"second\");\n",
    "# end 속성을 입력하면, print 후 줄바꿈 대신 다른 기호로 대체"
   ]
  }
 ],
 "metadata": {
  "kernelspec": {
   "display_name": "Python 3 (ipykernel)",
   "language": "python",
   "name": "python3"
  },
  "language_info": {
   "codemirror_mode": {
    "name": "ipython",
    "version": 3
   },
   "file_extension": ".py",
   "mimetype": "text/x-python",
   "name": "python",
   "nbconvert_exporter": "python",
   "pygments_lexer": "ipython3",
   "version": "3.12.4"
  }
 },
 "nbformat": 4,
 "nbformat_minor": 5
}
