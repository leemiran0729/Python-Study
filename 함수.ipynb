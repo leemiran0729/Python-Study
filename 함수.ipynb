{
 "cells": [
  {
   "cell_type": "code",
   "execution_count": 1,
   "id": "b0895770-6053-4009-a445-43a66640559a",
   "metadata": {},
   "outputs": [],
   "source": [
    "'''\n",
    "201. \"비트코인\" 문자열을 화면에 출력하는 print_coin()함수를 정의하라 \n",
    "'''\n",
    "\n",
    "def print_coin() :\n",
    "    print(\"비트코인\")"
   ]
  },
  {
   "cell_type": "code",
   "execution_count": 2,
   "id": "085cc361-bcd2-4668-96f7-21dec19a6946",
   "metadata": {},
   "outputs": [
    {
     "name": "stdout",
     "output_type": "stream",
     "text": [
      "비트코인\n"
     ]
    }
   ],
   "source": [
    "'''\n",
    "202. 201에서 정의한 함수를 호출하라\n",
    "'''\n",
    "\n",
    "print_coin()"
   ]
  },
  {
   "cell_type": "code",
   "execution_count": 3,
   "id": "71752d33-08c8-4f31-9eb1-29e1782c0d1f",
   "metadata": {},
   "outputs": [
    {
     "name": "stdout",
     "output_type": "stream",
     "text": [
      "비트코인\n",
      "비트코인\n",
      "비트코인\n",
      "비트코인\n",
      "비트코인\n",
      "비트코인\n",
      "비트코인\n",
      "비트코인\n",
      "비트코인\n",
      "비트코인\n",
      "비트코인\n",
      "비트코인\n",
      "비트코인\n",
      "비트코인\n",
      "비트코인\n",
      "비트코인\n",
      "비트코인\n",
      "비트코인\n",
      "비트코인\n",
      "비트코인\n",
      "비트코인\n",
      "비트코인\n",
      "비트코인\n",
      "비트코인\n",
      "비트코인\n",
      "비트코인\n",
      "비트코인\n",
      "비트코인\n",
      "비트코인\n",
      "비트코인\n",
      "비트코인\n",
      "비트코인\n",
      "비트코인\n",
      "비트코인\n",
      "비트코인\n",
      "비트코인\n",
      "비트코인\n",
      "비트코인\n",
      "비트코인\n",
      "비트코인\n",
      "비트코인\n",
      "비트코인\n",
      "비트코인\n",
      "비트코인\n",
      "비트코인\n",
      "비트코인\n",
      "비트코인\n",
      "비트코인\n",
      "비트코인\n",
      "비트코인\n",
      "비트코인\n",
      "비트코인\n",
      "비트코인\n",
      "비트코인\n",
      "비트코인\n",
      "비트코인\n",
      "비트코인\n",
      "비트코인\n",
      "비트코인\n",
      "비트코인\n",
      "비트코인\n",
      "비트코인\n",
      "비트코인\n",
      "비트코인\n",
      "비트코인\n",
      "비트코인\n",
      "비트코인\n",
      "비트코인\n",
      "비트코인\n",
      "비트코인\n",
      "비트코인\n",
      "비트코인\n",
      "비트코인\n",
      "비트코인\n",
      "비트코인\n",
      "비트코인\n",
      "비트코인\n",
      "비트코인\n",
      "비트코인\n",
      "비트코인\n",
      "비트코인\n",
      "비트코인\n",
      "비트코인\n",
      "비트코인\n",
      "비트코인\n",
      "비트코인\n",
      "비트코인\n",
      "비트코인\n",
      "비트코인\n",
      "비트코인\n",
      "비트코인\n",
      "비트코인\n",
      "비트코인\n",
      "비트코인\n",
      "비트코인\n",
      "비트코인\n",
      "비트코인\n",
      "비트코인\n",
      "비트코인\n",
      "비트코인\n"
     ]
    }
   ],
   "source": [
    "'''\n",
    "203. 201에서 정의한 print_coin 함수를 100번 호출하라\n",
    "'''\n",
    "\n",
    "for _ in range(100):\n",
    "    print_coin()"
   ]
  },
  {
   "cell_type": "code",
   "execution_count": 4,
   "id": "2645116a-750f-4798-9d2b-d1fb75c42583",
   "metadata": {},
   "outputs": [],
   "source": [
    "'''\n",
    "204. \"비트코인\" 문자열을 100번 화면에 출력하는 print_coins() 함수를 정의하라\n",
    "'''\n",
    "\n",
    "def print_coins():\n",
    "    for _ in range(100):\n",
    "        print(\"비트코인\")"
   ]
  },
  {
   "cell_type": "code",
   "execution_count": 5,
   "id": "c153a9ef-c390-49fd-9d3a-b90c088da910",
   "metadata": {},
   "outputs": [
    {
     "ename": "NameError",
     "evalue": "name 'hello' is not defined",
     "output_type": "error",
     "traceback": [
      "\u001b[1;31m---------------------------------------------------------------------------\u001b[0m",
      "\u001b[1;31mNameError\u001b[0m                                 Traceback (most recent call last)",
      "Cell \u001b[1;32mIn[5], line 4\u001b[0m\n\u001b[0;32m      1\u001b[0m \u001b[38;5;124;03m'''\u001b[39;00m\n\u001b[0;32m      2\u001b[0m \u001b[38;5;124;03m205. 에러가 발생하는 이유를 설명하라\u001b[39;00m\n\u001b[0;32m      3\u001b[0m \u001b[38;5;124;03m'''\u001b[39;00m\n\u001b[1;32m----> 4\u001b[0m hello()\n\u001b[0;32m      5\u001b[0m \u001b[38;5;28;01mdef\u001b[39;00m \u001b[38;5;21mhello\u001b[39m():\n\u001b[0;32m      6\u001b[0m     \u001b[38;5;28mprint\u001b[39m(\u001b[38;5;124m\"\u001b[39m\u001b[38;5;124mHi\u001b[39m\u001b[38;5;124m\"\u001b[39m)\n",
      "\u001b[1;31mNameError\u001b[0m: name 'hello' is not defined"
     ]
    }
   ],
   "source": [
    "'''\n",
    "205. 에러가 발생하는 이유를 설명하라\n",
    "'''\n",
    "hello()\n",
    "def hello():\n",
    "    print(\"Hi\") # 함수 정의 전에 호출함\n"
   ]
  },
  {
   "cell_type": "code",
   "execution_count": 6,
   "id": "89376796-16a3-4883-b351-57359c9f5e4d",
   "metadata": {},
   "outputs": [
    {
     "name": "stdout",
     "output_type": "stream",
     "text": [
      "A\n",
      "B\n",
      "C\n",
      "A\n",
      "B\n"
     ]
    }
   ],
   "source": [
    "'''\n",
    "206. 아래 코드의 실행 결과를 예측하라\n",
    "'''\n",
    "\n",
    "# A B C A B\n",
    "def message() :\n",
    "    print(\"A\")\n",
    "    print(\"B\")\n",
    "\n",
    "message()\n",
    "print(\"C\")\n",
    "message()"
   ]
  },
  {
   "cell_type": "code",
   "execution_count": 7,
   "id": "bfde1ce7-071b-4813-910b-15535f900313",
   "metadata": {},
   "outputs": [
    {
     "name": "stdout",
     "output_type": "stream",
     "text": [
      "A\n",
      "C\n",
      "B\n"
     ]
    }
   ],
   "source": [
    "'''\n",
    "207. 아래 코드의 실행 결과를 예측하라\n",
    "'''\n",
    "\n",
    "# A C B\n",
    "print(\"A\")\n",
    "\n",
    "def message() :\n",
    "    print(\"B\")\n",
    "\n",
    "print(\"C\")\n",
    "message()\n"
   ]
  },
  {
   "cell_type": "code",
   "execution_count": 8,
   "id": "9b812bfb-8ff3-4538-9002-10e4d0f1c47c",
   "metadata": {},
   "outputs": [
    {
     "name": "stdout",
     "output_type": "stream",
     "text": [
      "A\n",
      "C\n",
      "B\n",
      "E\n",
      "D\n"
     ]
    }
   ],
   "source": [
    "'''\n",
    "208. 아래 코드의 실행 결과를 예측하라\n",
    "'''\n",
    "\n",
    "# A C B E D\n",
    "print(\"A\")\n",
    "def message1() :\n",
    "    print(\"B\")\n",
    "print(\"C\")\n",
    "def message2() :\n",
    "    print(\"D\")\n",
    "message1()\n",
    "print(\"E\")\n",
    "message2()\n"
   ]
  },
  {
   "cell_type": "code",
   "execution_count": 9,
   "id": "cd43ef68-4659-4722-a8c0-2c045ed2817d",
   "metadata": {},
   "outputs": [
    {
     "name": "stdout",
     "output_type": "stream",
     "text": [
      "B\n",
      "A\n"
     ]
    }
   ],
   "source": [
    "'''\n",
    "209. 아래 코드의 실행 결과를 예측하라\n",
    "'''\n",
    "\n",
    "# B A\n",
    "def message1():\n",
    "    print(\"A\")\n",
    "\n",
    "def message2():\n",
    "    print(\"B\")\n",
    "    message1()\n",
    "\n",
    "message2()\n"
   ]
  },
  {
   "cell_type": "code",
   "execution_count": 10,
   "id": "a7ce19a3-8c3c-4065-966b-8afcd0fc23c4",
   "metadata": {},
   "outputs": [
    {
     "name": "stdout",
     "output_type": "stream",
     "text": [
      "B\n",
      "C\n",
      "B\n",
      "C\n",
      "B\n",
      "C\n",
      "A\n"
     ]
    }
   ],
   "source": [
    "'''\n",
    "210. 아래 코드의 실행 결과를 예측하라\n",
    "'''\n",
    "\n",
    "# B C B C B C A\n",
    "def message1():\n",
    "    print(\"A\")\n",
    "\n",
    "def message2():\n",
    "    print(\"B\")\n",
    "\n",
    "def message3():\n",
    "    for i in range (3) :\n",
    "        message2()\n",
    "        print(\"C\")\n",
    "    message1()\n",
    "\n",
    "message3()\n"
   ]
  },
  {
   "cell_type": "code",
   "execution_count": 11,
   "id": "6d85fc1e-556e-42e4-8450-816c8c71488f",
   "metadata": {},
   "outputs": [
    {
     "name": "stdout",
     "output_type": "stream",
     "text": [
      "안녕\n",
      "Hi\n"
     ]
    }
   ],
   "source": [
    "'''\n",
    "211. 함수의 호출 결과를 예측하라\n",
    "'''\n",
    "\n",
    "# 안녕 Hi\n",
    "def 함수(문자열) :\n",
    "    print(문자열)\n",
    "\n",
    "함수(\"안녕\")\n",
    "함수(\"Hi\")\n"
   ]
  },
  {
   "cell_type": "code",
   "execution_count": 12,
   "id": "1e71a9e2-09f8-4c30-9d6c-e099bab65474",
   "metadata": {},
   "outputs": [
    {
     "name": "stdout",
     "output_type": "stream",
     "text": [
      "7\n",
      "15\n"
     ]
    }
   ],
   "source": [
    "'''\n",
    "212. 함수의 호출 결과를 예측하라\n",
    "'''\n",
    "\n",
    "# 7 15\n",
    "def 함수(a, b) :\n",
    "    print(a + b)\n",
    "\n",
    "함수(3, 4)\n",
    "함수(7, 8)"
   ]
  },
  {
   "cell_type": "code",
   "execution_count": 14,
   "id": "70a32070-fa8b-4415-8f2e-d010992d9552",
   "metadata": {},
   "outputs": [
    {
     "ename": "TypeError",
     "evalue": "함수() missing 1 required positional argument: '문자열'",
     "output_type": "error",
     "traceback": [
      "\u001b[1;31m---------------------------------------------------------------------------\u001b[0m",
      "\u001b[1;31mTypeError\u001b[0m                                 Traceback (most recent call last)",
      "Cell \u001b[1;32mIn[14], line 8\u001b[0m\n\u001b[0;32m      5\u001b[0m \u001b[38;5;28;01mdef\u001b[39;00m \u001b[38;5;21m함수\u001b[39m(문자열) :\n\u001b[0;32m      6\u001b[0m     \u001b[38;5;28mprint\u001b[39m(문자열)\n\u001b[1;32m----> 8\u001b[0m 함수()\n",
      "\u001b[1;31mTypeError\u001b[0m: 함수() missing 1 required positional argument: '문자열'"
     ]
    }
   ],
   "source": [
    "'''\n",
    "213. 에러가 나는 원인을 설명하라\n",
    "'''\n",
    "\n",
    "def 함수(문자열) :\n",
    "    print(문자열)\n",
    "\n",
    "함수() # 함수 정의와 다르게 파라미터를 입력하지 않음"
   ]
  },
  {
   "cell_type": "code",
   "execution_count": 15,
   "id": "fc8d74c2-c58c-4cf4-9aad-b5f9e81c39ea",
   "metadata": {},
   "outputs": [
    {
     "ename": "TypeError",
     "evalue": "can only concatenate str (not \"int\") to str",
     "output_type": "error",
     "traceback": [
      "\u001b[1;31m---------------------------------------------------------------------------\u001b[0m",
      "\u001b[1;31mTypeError\u001b[0m                                 Traceback (most recent call last)",
      "Cell \u001b[1;32mIn[15], line 8\u001b[0m\n\u001b[0;32m      5\u001b[0m \u001b[38;5;28;01mdef\u001b[39;00m \u001b[38;5;21m함수\u001b[39m(a, b) :\n\u001b[0;32m      6\u001b[0m     \u001b[38;5;28mprint\u001b[39m(a \u001b[38;5;241m+\u001b[39m b)\n\u001b[1;32m----> 8\u001b[0m 함수(\u001b[38;5;124m\"\u001b[39m\u001b[38;5;124m안녕\u001b[39m\u001b[38;5;124m\"\u001b[39m, \u001b[38;5;241m3\u001b[39m)\n",
      "Cell \u001b[1;32mIn[15], line 6\u001b[0m, in \u001b[0;36m함수\u001b[1;34m(a, b)\u001b[0m\n\u001b[0;32m      5\u001b[0m \u001b[38;5;28;01mdef\u001b[39;00m \u001b[38;5;21m함수\u001b[39m(a, b) :\n\u001b[1;32m----> 6\u001b[0m     \u001b[38;5;28mprint\u001b[39m(a \u001b[38;5;241m+\u001b[39m b)\n",
      "\u001b[1;31mTypeError\u001b[0m: can only concatenate str (not \"int\") to str"
     ]
    }
   ],
   "source": [
    "'''\n",
    "213. 에러가 나는 원인을 설명하라\n",
    "'''\n",
    "\n",
    "def 함수(a, b) :\n",
    "    print(a + b)\n",
    "\n",
    "함수(\"안녕\", 3) # 문자열과 숫자를 더하는 것은 불가\n"
   ]
  },
  {
   "cell_type": "code",
   "execution_count": 16,
   "id": "f01563eb-9dd4-4181-b0cc-62e94938f3af",
   "metadata": {},
   "outputs": [],
   "source": [
    "'''\n",
    "215. 문자열을 받아 끝에 :D 스마일 문자열을 이어 붙여 출력하는 print_with_smile 함수를 정의하라\n",
    "'''\n",
    "\n",
    "def print_with_smile(문자열) :\n",
    "    print(문자열 + \":D\")"
   ]
  },
  {
   "cell_type": "code",
   "execution_count": 17,
   "id": "55d51711-f04e-4274-8097-888a75d99066",
   "metadata": {},
   "outputs": [
    {
     "name": "stdout",
     "output_type": "stream",
     "text": [
      "안녕하세요:D\n"
     ]
    }
   ],
   "source": [
    "'''\n",
    "216. 215에서 정의한 함수를 호출하라. 파라미터는 안녕하세요 로 입력하시오 \n",
    "'''\n",
    "\n",
    "print_with_smile(\"안녕하세요\")"
   ]
  },
  {
   "cell_type": "code",
   "execution_count": 18,
   "id": "761e7a92-2884-4c06-a06d-f8200d951db7",
   "metadata": {},
   "outputs": [],
   "source": [
    "'''\n",
    "217. 현재 가격을 입력받아 상한가를 출력하는 print_upper_price 함수를 정의하라\n",
    "'''\n",
    "\n",
    "def print_upper_price(가격):\n",
    "    print(가격 * 1.3)"
   ]
  },
  {
   "cell_type": "code",
   "execution_count": 19,
   "id": "58fcbd5b-fff0-4274-b16c-6a51cb3ad401",
   "metadata": {},
   "outputs": [],
   "source": [
    "'''\n",
    "218. 두 개의 숫자를 입력받아 두 수의 합을 출력하는 print_sum 함수를 정의하라\n",
    "'''\n",
    "\n",
    "def print_sum(n, m):\n",
    "    print(n+m)\n"
   ]
  },
  {
   "cell_type": "code",
   "execution_count": 20,
   "id": "2029a0ae-fd70-4663-b583-591b66d28e83",
   "metadata": {},
   "outputs": [
    {
     "name": "stdout",
     "output_type": "stream",
     "text": [
      "3 + 4 = 7\n",
      "3 - 4 = -1\n",
      "3 * 4 = 12\n",
      "3 / 4 = 0.75\n"
     ]
    }
   ],
   "source": [
    "'''\n",
    "219. 두 개의 숫자를 입력받아 합/차/곱/나눗셈을 출력하는 print_arithmetic_operation 함수를 작성하라\n",
    "'''\n",
    "\n",
    "def print_arithmetic_operation(n, m):\n",
    "    print(n,\"+\",m,\"=\",n+m)\n",
    "    print(n,\"-\",m,\"=\",n-m)\n",
    "    print(n,\"*\",m,\"=\",n*m)\n",
    "    print(n,\"/\",m,\"=\",n/m)\n",
    "\n",
    "print_arithmetic_operation(3,4)"
   ]
  },
  {
   "cell_type": "code",
   "execution_count": 22,
   "id": "0faa72c1-c4e2-440d-a181-3b16303c9ab0",
   "metadata": {},
   "outputs": [
    {
     "name": "stdout",
     "output_type": "stream",
     "text": [
      "6\n"
     ]
    }
   ],
   "source": [
    "'''\n",
    "220. 세 개의 숫자를 입력받아 가장 큰 수를 출력하는 print_max 함수를 정의하라\n",
    "'''\n",
    "\n",
    "def print_max(a,b,c):\n",
    "    max = a\n",
    "\n",
    "    if max<=b:\n",
    "        max = b\n",
    "    if max <= c:\n",
    "        max = c\n",
    "    print(max)\n",
    "\n",
    "print_max(1,6,5)"
   ]
  },
  {
   "cell_type": "code",
   "execution_count": 29,
   "id": "8f1233b9-7248-42cb-a9d2-d45edc52e73e",
   "metadata": {},
   "outputs": [
    {
     "ename": "TypeError",
     "evalue": "can only join an iterable",
     "output_type": "error",
     "traceback": [
      "\u001b[1;31m---------------------------------------------------------------------------\u001b[0m",
      "\u001b[1;31mTypeError\u001b[0m                                 Traceback (most recent call last)",
      "Cell \u001b[1;32mIn[29], line 11\u001b[0m\n\u001b[0;32m      8\u001b[0m     li_str \u001b[38;5;241m=\u001b[39m \u001b[38;5;124m'\u001b[39m\u001b[38;5;124m'\u001b[39m\u001b[38;5;241m.\u001b[39mjoin(li_str)\n\u001b[0;32m      9\u001b[0m     \u001b[38;5;28mprint\u001b[39m(li_str)\n\u001b[1;32m---> 11\u001b[0m print_reverse(\u001b[38;5;124m\"\u001b[39m\u001b[38;5;124mpython\u001b[39m\u001b[38;5;124m\"\u001b[39m)\n",
      "Cell \u001b[1;32mIn[29], line 8\u001b[0m, in \u001b[0;36mprint_reverse\u001b[1;34m(문자열)\u001b[0m\n\u001b[0;32m      6\u001b[0m li_str \u001b[38;5;241m=\u001b[39m \u001b[38;5;28mlist\u001b[39m(문자열)\n\u001b[0;32m      7\u001b[0m li_str \u001b[38;5;241m=\u001b[39m li_str\u001b[38;5;241m.\u001b[39mreverse()\n\u001b[1;32m----> 8\u001b[0m li_str \u001b[38;5;241m=\u001b[39m \u001b[38;5;124m'\u001b[39m\u001b[38;5;124m'\u001b[39m\u001b[38;5;241m.\u001b[39mjoin(li_str)\n\u001b[0;32m      9\u001b[0m \u001b[38;5;28mprint\u001b[39m(li_str)\n",
      "\u001b[1;31mTypeError\u001b[0m: can only join an iterable"
     ]
    }
   ],
   "source": [
    "'''\n",
    "221. 입력된 문자열을 역순으로 출력하는 print_reverse 함수를 정의하라\n",
    "'''\n",
    "\n",
    "def print_reverse(문자열): \n",
    "    li_str = list(문자열)\n",
    "    li_str = li_str.reverse()\n",
    "    li_str = ''.join(li_str)\n",
    "    print(li_str)\n",
    "\n",
    "print_reverse(\"python\")"
   ]
  },
  {
   "cell_type": "code",
   "execution_count": 30,
   "id": "4c422d9c-449c-4a7f-b9d0-0123ac80389e",
   "metadata": {},
   "outputs": [
    {
     "name": "stdout",
     "output_type": "stream",
     "text": [
      "2.0\n"
     ]
    }
   ],
   "source": [
    "'''\n",
    "222. 성적 리스트를 입력받아 평균을 출력하는 print_score 함수를 정의하라\n",
    "'''\n",
    "\n",
    "def print_score(li):\n",
    "    print(sum(li)/len(li))\n",
    "\n",
    "print_score ([1, 2, 3])\n"
   ]
  },
  {
   "cell_type": "code",
   "execution_count": 32,
   "id": "d3a1d39b-9a17-4cd0-9603-87470ac9336c",
   "metadata": {},
   "outputs": [
    {
     "name": "stdout",
     "output_type": "stream",
     "text": [
      "2\n",
      "10\n",
      "12\n"
     ]
    }
   ],
   "source": [
    "'''\n",
    "223. 하나의 리스트를 입력받아 짝수만 화면에 출력하는 print_even 함수를 정의하라\n",
    "'''\n",
    "\n",
    "def print_even(li):\n",
    "    for n in li:\n",
    "        if not(n%2):\n",
    "            print(n)\n",
    "\n",
    "print_even ([1, 3, 2, 10, 12, 11, 15])\n"
   ]
  },
  {
   "cell_type": "code",
   "execution_count": 34,
   "id": "ce4bb595-f977-468b-8631-6ef4a2de033e",
   "metadata": {},
   "outputs": [
    {
     "name": "stdout",
     "output_type": "stream",
     "text": [
      "이름\n",
      "나이\n",
      "성별\n"
     ]
    }
   ],
   "source": [
    "'''\n",
    "224. 하나의 딕셔너리를 입력받아 딕셔너리의 key 값을 화면에 출력하는 print_keys 함수를 정의하라\n",
    "'''\n",
    "\n",
    "def print_keys(obj):\n",
    "    for key in obj:\n",
    "        print(key)\n",
    "\n",
    "print_keys ({\"이름\":\"김말똥\", \"나이\":30, \"성별\":0})\n"
   ]
  },
  {
   "cell_type": "code",
   "execution_count": 35,
   "id": "1729e1d9-5175-4e7b-9df2-691a328608c4",
   "metadata": {},
   "outputs": [
    {
     "name": "stdout",
     "output_type": "stream",
     "text": [
      "[100, 130, 100, 100]\n"
     ]
    }
   ],
   "source": [
    "'''\n",
    "225. my_dict와 날짜 키값을 입력받아 OHLC 리스트를 출력하는 print_value_by_key 함수를 정의하라\n",
    "'''\n",
    "\n",
    "my_dict = {\"10/26\" : [100, 130, 100, 100],\n",
    "           \"10/27\" : [10, 12, 10, 11]}\n",
    "\n",
    "def print_value_by_key(dic, key):\n",
    "    print(dic[key])\n",
    "\n",
    "print_value_by_key  (my_dict, \"10/26\")\n"
   ]
  },
  {
   "cell_type": "code",
   "execution_count": 40,
   "id": "84448561-c530-48a2-a324-3099e8d3e07a",
   "metadata": {},
   "outputs": [
    {
     "name": "stdout",
     "output_type": "stream",
     "text": [
      "아이엠어보\n",
      "이유알어걸\n",
      "아이엠어보\n",
      "이유알어걸\n",
      "\n"
     ]
    }
   ],
   "source": [
    "'''\n",
    "226. 입력 문자열을 한 줄에 다섯글자씩 출력하는 print_5xn(string)함수를 작성하라\\\n",
    "'''\n",
    "\n",
    "def print_5xn(string):\n",
    "    for i in range(0,len(string),5):\n",
    "        print(string[i:i+5])\n",
    "print_5xn(\"아이엠어보이유알어걸\")\n",
    "\n",
    "\n",
    "def print_5xn(line):\n",
    "    chunk_num = int(len(line) / 5)\n",
    "    for x in range(chunk_num + 1) :\n",
    "        print(line[x * 5: x * 5 + 5])\n",
    "\n",
    "print_5xn(\"아이엠어보이유알어걸\")"
   ]
  },
  {
   "cell_type": "code",
   "execution_count": 42,
   "id": "58588c33-1571-479c-a7ab-abd6d8ebec2c",
   "metadata": {},
   "outputs": [
    {
     "name": "stdout",
     "output_type": "stream",
     "text": [
      "아이엠\n",
      "어보이\n",
      "유알어\n",
      "걸\n"
     ]
    }
   ],
   "source": [
    "'''\n",
    "227. 문자열과 한줄에 출력될 글자 수를 입력을 받아 한 줄에 입력된 글자 수만큼 출력하는 print_mxn(string) 함수를 작성하라.\n",
    "'''\n",
    "\n",
    "def print_mxn(string, m):\n",
    "    for i in range(0,len(string),m):\n",
    "        print(string[i:i+m])\n",
    "        \n",
    "print_mxn(\"아이엠어보이유알어걸\", 3)\n",
    "\n",
    "def print_mxn(line, num):\n",
    "    chunk_num = int(len(line) / num)\n",
    "    for x in range(chunk_num + 1) :\n",
    "        print(line[x * num: x * num + num])\n",
    "        "
   ]
  },
  {
   "cell_type": "code",
   "execution_count": 43,
   "id": "9822abec-45b0-4bf7-ac58-b0688755784a",
   "metadata": {},
   "outputs": [],
   "source": [
    "'''\n",
    "228. 연봉을 입력받아 월급을 계산하는 calc_monthly_salary(annual_salary) 함수를 정의하라.\n",
    "'''\n",
    "\n",
    "def calc_monthly_salary(annual_salary) :\n",
    "    print(int(annual_salary/12))\n",
    "    "
   ]
  },
  {
   "cell_type": "code",
   "execution_count": 44,
   "id": "3ffcf729-8580-4843-b08f-1526a753a606",
   "metadata": {},
   "outputs": [
    {
     "name": "stdout",
     "output_type": "stream",
     "text": [
      "왼쪽: 100\n",
      "오른쪽: 200\n"
     ]
    }
   ],
   "source": [
    "'''\n",
    "229. 아래 코드의 실행결과를 예측하라\n",
    "'''\n",
    "\n",
    "# 왼쪽: 100 오른쪽: 200\n",
    "def my_print (a, b) :\n",
    "    print(\"왼쪽:\", a)\n",
    "    print(\"오른쪽:\", b)\n",
    "\n",
    "my_print(a=100, b=200)\n"
   ]
  },
  {
   "cell_type": "code",
   "execution_count": 46,
   "id": "ec962b29-ada0-4e24-b26c-31bce4c2accf",
   "metadata": {},
   "outputs": [
    {
     "name": "stdout",
     "output_type": "stream",
     "text": [
      "왼쪽: 200\n",
      "오른쪽: 100\n"
     ]
    }
   ],
   "source": [
    "'''\n",
    "230. 아래 코드의 실행결과를 예측하라\n",
    "'''\n",
    "\n",
    "# 왼쪽: 200 오른쪽: 100\n",
    "\n",
    "def my_print (a, b) :\n",
    "    print(\"왼쪽:\", a)\n",
    "    print(\"오른쪽:\", b)\n",
    "\n",
    "my_print(b=100, a=200)\n"
   ]
  },
  {
   "cell_type": "code",
   "execution_count": 47,
   "id": "3c692a0b-c77c-473e-be2d-7a66b3155bbf",
   "metadata": {},
   "outputs": [
    {
     "ename": "NameError",
     "evalue": "name 'result' is not defined",
     "output_type": "error",
     "traceback": [
      "\u001b[1;31m---------------------------------------------------------------------------\u001b[0m",
      "\u001b[1;31mNameError\u001b[0m                                 Traceback (most recent call last)",
      "Cell \u001b[1;32mIn[47], line 10\u001b[0m\n\u001b[0;32m      7\u001b[0m     result \u001b[38;5;241m=\u001b[39m n \u001b[38;5;241m+\u001b[39m \u001b[38;5;241m1\u001b[39m\n\u001b[0;32m      9\u001b[0m n_plus_1(\u001b[38;5;241m3\u001b[39m)\n\u001b[1;32m---> 10\u001b[0m \u001b[38;5;28mprint\u001b[39m (result)\n",
      "\u001b[1;31mNameError\u001b[0m: name 'result' is not defined"
     ]
    }
   ],
   "source": [
    "'''\n",
    "231. 아래 코드를 실행한 결과를 예상하라\n",
    "'''\n",
    "\n",
    "# 에러남\n",
    "def n_plus_1 (n) :\n",
    "    result = n + 1\n",
    "\n",
    "n_plus_1(3)\n",
    "print (result) # 함수 내부 변수는 함수 밖에서 접근 불가\n"
   ]
  },
  {
   "cell_type": "code",
   "execution_count": 49,
   "id": "941f2510-5159-4d53-bf75-1a47f8e0e9af",
   "metadata": {},
   "outputs": [
    {
     "data": {
      "text/plain": [
       "'www.naver.com'"
      ]
     },
     "execution_count": 49,
     "metadata": {},
     "output_type": "execute_result"
    }
   ],
   "source": [
    "'''\n",
    "232. 문자열 하나를 입력받아 인터넷 주소를 반환하는 make_url 함수를 정의하라\n",
    "'''\n",
    "def make_url(str):\n",
    "    return \"www.\"+str+\".com\"\n",
    "\n",
    "make_url(\"naver\")\n"
   ]
  },
  {
   "cell_type": "code",
   "execution_count": 51,
   "id": "ebbb4ffc-82f6-4469-821f-1b77eeab30ac",
   "metadata": {},
   "outputs": [
    {
     "data": {
      "text/plain": [
       "['a', 'b', 'c', 'd']"
      ]
     },
     "execution_count": 51,
     "metadata": {},
     "output_type": "execute_result"
    }
   ],
   "source": [
    "'''\n",
    "233. 문자열을 입력받아 리스트로 반환하는 make_list 함수를 정의하라\n",
    "'''\n",
    "\n",
    "def make_list(str):\n",
    "    return list(str)\n",
    "\n",
    "make_list(\"abcd\")\n"
   ]
  },
  {
   "cell_type": "code",
   "execution_count": 52,
   "id": "9a998891-2abb-4efb-a877-738172783151",
   "metadata": {},
   "outputs": [
    {
     "data": {
      "text/plain": [
       "[4, 6, 8]"
      ]
     },
     "execution_count": 52,
     "metadata": {},
     "output_type": "execute_result"
    }
   ],
   "source": [
    "'''\n",
    "234. 숫자 리스트를 입력받아 짝수를 추출하여 리스트로 반환하는 pickup_even 함수를 구현하라\n",
    "'''\n",
    "\n",
    "def pickup_even(li):\n",
    "    even_li = []\n",
    "    for n in li:\n",
    "        if not(n%2):\n",
    "            even_li.append(n)\n",
    "    return even_li\n",
    "\n",
    "pickup_even([3, 4, 5, 6, 7, 8])\n"
   ]
  },
  {
   "cell_type": "code",
   "execution_count": 56,
   "id": "438e02f2-be0e-4836-9b8a-3840d7509792",
   "metadata": {},
   "outputs": [
    {
     "data": {
      "text/plain": [
       "1234567"
      ]
     },
     "execution_count": 56,
     "metadata": {},
     "output_type": "execute_result"
    }
   ],
   "source": [
    "'''\n",
    "235. 콤마가 포함된 문자열 숫자를 받아 정수로 변환하는 convert_int 함수를 정의하라\n",
    "'''\n",
    "\n",
    "def convert_int(str):\n",
    "    return int(''.join(str.split(',')))\n",
    "\n",
    "convert_int(\"1,234,567\")\n",
    "\n",
    "def convert_int (string) :\n",
    "    return int(string.replace(',', ''))\n"
   ]
  },
  {
   "cell_type": "code",
   "execution_count": 58,
   "id": "f83e8f07-f05d-4690-8f10-691746e376e4",
   "metadata": {},
   "outputs": [
    {
     "name": "stdout",
     "output_type": "stream",
     "text": [
      "22\n"
     ]
    }
   ],
   "source": [
    "'''\n",
    "236. 코드의 실행결과를 예측하라\n",
    "'''\n",
    "\n",
    "# 22\n",
    "def 함수(num) :\n",
    "    return num + 4\n",
    "\n",
    "a = 함수(10)\n",
    "b = 함수(a)\n",
    "c = 함수(b)\n",
    "print(c)\n"
   ]
  },
  {
   "cell_type": "code",
   "execution_count": 59,
   "id": "5c5fc5fd-3166-484b-9374-5765987a644e",
   "metadata": {},
   "outputs": [
    {
     "name": "stdout",
     "output_type": "stream",
     "text": [
      "22\n"
     ]
    }
   ],
   "source": [
    "'''\n",
    "237. 코드의 실행결과를 예측하라\n",
    "'''\n",
    "\n",
    "# 22\n",
    "def 함수(num) :\n",
    "    return num + 4\n",
    "\n",
    "c = 함수(함수(함수(10)))\n",
    "print(c)\n"
   ]
  },
  {
   "cell_type": "code",
   "execution_count": 60,
   "id": "1aa40929-21cc-4d95-b4be-2cf2dfd69a9f",
   "metadata": {},
   "outputs": [
    {
     "name": "stdout",
     "output_type": "stream",
     "text": [
      "140\n"
     ]
    }
   ],
   "source": [
    "'''\n",
    "238. 코드의 실행결과를 예측하라\n",
    "'''\n",
    "\n",
    "# 140\n",
    "def 함수1(num) :\n",
    "    return num + 4\n",
    "\n",
    "def 함수2(num) :\n",
    "    return num * 10\n",
    "\n",
    "a = 함수1(10)\n",
    "c = 함수2(a)\n",
    "print(c)\n"
   ]
  },
  {
   "cell_type": "code",
   "execution_count": 61,
   "id": "0883bb39-cf62-46a9-8ce9-c7ab83b05473",
   "metadata": {},
   "outputs": [
    {
     "name": "stdout",
     "output_type": "stream",
     "text": [
      "16\n"
     ]
    }
   ],
   "source": [
    "'''\n",
    "239. 코드의 실행결과를 예측하라\n",
    "'''\n",
    "\n",
    "# 16\n",
    "def 함수1(num) :\n",
    "    return num + 4\n",
    "\n",
    "def 함수2(num) :\n",
    "    num = num + 2\n",
    "    return 함수1(num)\n",
    "\n",
    "c = 함수2(10)\n",
    "print(c)\n"
   ]
  },
  {
   "cell_type": "code",
   "execution_count": 62,
   "id": "6baca89b-d1ad-44ff-b4a6-4e9bcad7f435",
   "metadata": {},
   "outputs": [
    {
     "name": "stdout",
     "output_type": "stream",
     "text": [
      "28\n"
     ]
    }
   ],
   "source": [
    "'''\n",
    "240. 코드의 실행결과를 예측하라\n",
    "'''\n",
    "\n",
    "# 28\n",
    "def 함수0(num) :\n",
    "    return num * 2\n",
    "\n",
    "def 함수1(num) :\n",
    "    return 함수0(num + 2)\n",
    "\n",
    "def 함수2(num) :\n",
    "    num = num + 10\n",
    "    return 함수1(num)\n",
    "\n",
    "c = 함수2(2)\n",
    "print(c)\n"
   ]
  }
 ],
 "metadata": {
  "kernelspec": {
   "display_name": "Python 3 (ipykernel)",
   "language": "python",
   "name": "python3"
  },
  "language_info": {
   "codemirror_mode": {
    "name": "ipython",
    "version": 3
   },
   "file_extension": ".py",
   "mimetype": "text/x-python",
   "name": "python",
   "nbconvert_exporter": "python",
   "pygments_lexer": "ipython3",
   "version": "3.12.4"
  }
 },
 "nbformat": 4,
 "nbformat_minor": 5
}
